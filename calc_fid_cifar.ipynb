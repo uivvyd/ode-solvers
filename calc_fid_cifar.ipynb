{
 "cells": [
  {
   "cell_type": "code",
   "execution_count": 15,
   "metadata": {
    "execution": {
     "iopub.execute_input": "2024-12-21T09:05:12.148203Z",
     "iopub.status.busy": "2024-12-21T09:05:12.147683Z",
     "iopub.status.idle": "2024-12-21T09:05:12.230338Z",
     "shell.execute_reply": "2024-12-21T09:05:12.229577Z",
     "shell.execute_reply.started": "2024-12-21T09:05:12.148167Z"
    },
    "id": "XfJa4_vrnJnX",
    "tags": []
   },
   "outputs": [],
   "source": [
    "%reload_ext autoreload\n",
    "%autoreload 2"
   ]
  },
  {
   "cell_type": "code",
   "execution_count": 2,
   "metadata": {
    "execution": {
     "iopub.execute_input": "2024-12-21T06:13:56.050438Z",
     "iopub.status.busy": "2024-12-21T06:13:56.050102Z",
     "iopub.status.idle": "2024-12-21T06:13:57.895613Z",
     "shell.execute_reply": "2024-12-21T06:13:57.894937Z",
     "shell.execute_reply.started": "2024-12-21T06:13:56.050418Z"
    },
    "id": "063uy7-8nPvF"
   },
   "outputs": [
    {
     "name": "stderr",
     "output_type": "stream",
     "text": [
      "Cloning into 'edm'...\n"
     ]
    }
   ],
   "source": [
    "!git clone https://github.com/NVlabs/edm"
   ]
  },
  {
   "cell_type": "code",
   "execution_count": 16,
   "metadata": {
    "execution": {
     "iopub.execute_input": "2024-12-21T09:05:13.440303Z",
     "iopub.status.busy": "2024-12-21T09:05:13.439851Z",
     "iopub.status.idle": "2024-12-21T09:05:13.509905Z",
     "shell.execute_reply": "2024-12-21T09:05:13.509150Z",
     "shell.execute_reply.started": "2024-12-21T09:05:13.440269Z"
    },
    "id": "IVJ5cTy8nRMW",
    "tags": []
   },
   "outputs": [
    {
     "name": "stdout",
     "output_type": "stream",
     "text": [
      "/home/jupyter/work/resources/edm/edm\n"
     ]
    }
   ],
   "source": [
    "%cd edm"
   ]
  },
  {
   "cell_type": "code",
   "execution_count": 75,
   "metadata": {
    "execution": {
     "iopub.execute_input": "2024-12-21T13:25:20.610776Z",
     "iopub.status.busy": "2024-12-21T13:25:20.610399Z",
     "iopub.status.idle": "2024-12-21T13:25:22.866549Z",
     "shell.execute_reply": "2024-12-21T13:25:22.865541Z",
     "shell.execute_reply.started": "2024-12-21T13:25:20.610738Z"
    },
    "id": "Wm7u2WxOnSmJ",
    "tags": []
   },
   "outputs": [],
   "source": [
    "import tqdm\n",
    "import pickle\n",
    "import numpy as np\n",
    "import torch\n",
    "from PIL import Image\n",
    "import dnnlib\n",
    "from torch_utils import distributed as dist\n",
    "from solvers import EulerSolver, EDM, DDIMSolver, DPMSolver1"
   ]
  },
  {
   "cell_type": "code",
   "execution_count": 76,
   "metadata": {
    "execution": {
     "iopub.execute_input": "2024-12-21T13:25:22.868011Z",
     "iopub.status.busy": "2024-12-21T13:25:22.867584Z",
     "iopub.status.idle": "2024-12-21T13:25:22.958209Z",
     "shell.execute_reply": "2024-12-21T13:25:22.957466Z",
     "shell.execute_reply.started": "2024-12-21T13:25:22.867986Z"
    },
    "id": "TbOK65u-nU5a",
    "tags": []
   },
   "outputs": [],
   "source": [
    "import os, shutil\n",
    "from tqdm import tqdm\n",
    "from fid import calculate_inception_stats, calculate_fid_from_inception_stats\n",
    "\n",
    "# код с лекции\n",
    "\n",
    "def save_model_samples(name, model, batch_size, num_samples, solver, num_steps, **sampling_params):\n",
    "    if os.path.exists(name):\n",
    "        shutil.rmtree(name) # перед сохранением изображений в папку папка очищается\n",
    "    os.makedirs(name, exist_ok=True) # и пересоздается\n",
    "    count = 0\n",
    "\n",
    "    assert num_samples % 10 == 0\n",
    "\n",
    "    with tqdm(total= num_samples) as pbar:\n",
    "        while count < num_samples:\n",
    "            cur_batch_size = min(num_samples - count, batch_size)\n",
    "            noise = torch.randn(cur_batch_size, 3, 32, 32)\n",
    "            out, _ = solver.sample(net, noise, num_steps=num_steps, **sampling_params)\n",
    "            out = (out * 127.5 + 128).clip(0, 255).to(torch.uint8).permute(0, 2, 3, 1).cpu().numpy()\n",
    "            for i in range(out.shape[0]):\n",
    "                img = Image.fromarray(out[i])\n",
    "                n_digits = len(str(count))\n",
    "                img_name = (6 - n_digits) * '0' + str(count) + '.png'\n",
    "                img.save(os.path.join(name, img_name))\n",
    "                count += 1\n",
    "                pbar.update(1)\n",
    "                pbar.set_description('%d images saved' % (count,))\n",
    "\n",
    "\n",
    "def calc_fid(image_path, ref_path, num_expected, batch):\n",
    "    with dnnlib.util.open_url(ref_path) as f:\n",
    "        ref = dict(np.load(f))\n",
    "\n",
    "    mu, sigma = calculate_inception_stats(image_path=image_path, num_expected=num_expected, max_batch_size=batch)\n",
    "    fid = calculate_fid_from_inception_stats(mu, sigma, ref['mu'], ref['sigma'])\n",
    "    return fid"
   ]
  },
  {
   "cell_type": "code",
   "execution_count": 19,
   "metadata": {
    "execution": {
     "iopub.execute_input": "2024-12-21T09:05:20.487181Z",
     "iopub.status.busy": "2024-12-21T09:05:20.486631Z",
     "iopub.status.idle": "2024-12-21T09:05:20.807573Z",
     "shell.execute_reply": "2024-12-21T09:05:20.806722Z",
     "shell.execute_reply.started": "2024-12-21T09:05:20.487145Z"
    },
    "id": "9DmLpZ8tnW05",
    "tags": []
   },
   "outputs": [],
   "source": [
    "network_pkl = 'https://nvlabs-fi-cdn.nvidia.com/edm/pretrained/edm-cifar10-32x32-uncond-ve.pkl'\n",
    "\n",
    "with dnnlib.util.open_url(network_pkl, verbose=(dist.get_rank() == 0)) as f:\n",
    "    net = pickle.load(f)['ema'].eval().cuda()"
   ]
  },
  {
   "cell_type": "code",
   "execution_count": 32,
   "metadata": {
    "execution": {
     "iopub.execute_input": "2024-12-21T10:11:11.611298Z",
     "iopub.status.busy": "2024-12-21T10:11:11.610865Z",
     "iopub.status.idle": "2024-12-21T10:11:11.697394Z",
     "shell.execute_reply": "2024-12-21T10:11:11.696497Z",
     "shell.execute_reply.started": "2024-12-21T10:11:11.611274Z"
    },
    "tags": []
   },
   "outputs": [],
   "source": [
    "steps_list = [10, 16, 20, 32, 50, 100, 200]"
   ]
  },
  {
   "cell_type": "code",
   "execution_count": 31,
   "metadata": {
    "execution": {
     "iopub.execute_input": "2024-12-21T09:53:18.298691Z",
     "iopub.status.busy": "2024-12-21T09:53:18.297977Z",
     "iopub.status.idle": "2024-12-21T10:11:08.084890Z",
     "shell.execute_reply": "2024-12-21T10:11:08.083254Z",
     "shell.execute_reply.started": "2024-12-21T09:53:18.298658Z"
    },
    "id": "PxeYq5aznYdB",
    "tags": []
   },
   "outputs": [
    {
     "name": "stderr",
     "output_type": "stream",
     "text": [
      "3000 images saved: 100%|██████████| 3000/3000 [00:26<00:00, 112.69it/s]\n"
     ]
    },
    {
     "name": "stdout",
     "output_type": "stream",
     "text": [
      "Loading Inception-v3 model...\n",
      "Loading images from \"edm\"...\n",
      "Calculating statistics for 3000 images...\n"
     ]
    },
    {
     "name": "stderr",
     "output_type": "stream",
     "text": [
      "100%|██████████| 12/12 [00:01<00:00,  7.79batch/s]\n"
     ]
    },
    {
     "name": "stdout",
     "output_type": "stream",
     "text": [
      "Количество шагов: 10\n",
      "FID: 44.82339333901204\n"
     ]
    },
    {
     "name": "stderr",
     "output_type": "stream",
     "text": [
      "3000 images saved: 100%|██████████| 3000/3000 [00:39<00:00, 75.33it/s] \n"
     ]
    },
    {
     "name": "stdout",
     "output_type": "stream",
     "text": [
      "Loading Inception-v3 model...\n",
      "Loading images from \"edm\"...\n",
      "Calculating statistics for 3000 images...\n"
     ]
    },
    {
     "name": "stderr",
     "output_type": "stream",
     "text": [
      "100%|██████████| 12/12 [00:01<00:00,  7.74batch/s]\n"
     ]
    },
    {
     "name": "stdout",
     "output_type": "stream",
     "text": [
      "Количество шагов: 16\n",
      "FID: 13.297516284904352\n"
     ]
    },
    {
     "name": "stderr",
     "output_type": "stream",
     "text": [
      "3000 images saved: 100%|██████████| 3000/3000 [00:48<00:00, 61.47it/s] \n"
     ]
    },
    {
     "name": "stdout",
     "output_type": "stream",
     "text": [
      "Loading Inception-v3 model...\n",
      "Loading images from \"edm\"...\n",
      "Calculating statistics for 3000 images...\n"
     ]
    },
    {
     "name": "stderr",
     "output_type": "stream",
     "text": [
      "100%|██████████| 12/12 [00:01<00:00,  7.66batch/s]\n"
     ]
    },
    {
     "name": "stdout",
     "output_type": "stream",
     "text": [
      "Количество шагов: 20\n",
      "FID: 11.416331414279894\n"
     ]
    },
    {
     "name": "stderr",
     "output_type": "stream",
     "text": [
      "3000 images saved: 100%|██████████| 3000/3000 [01:15<00:00, 39.95it/s] \n"
     ]
    },
    {
     "name": "stdout",
     "output_type": "stream",
     "text": [
      "Loading Inception-v3 model...\n",
      "Loading images from \"edm\"...\n",
      "Calculating statistics for 3000 images...\n"
     ]
    },
    {
     "name": "stderr",
     "output_type": "stream",
     "text": [
      "100%|██████████| 12/12 [00:01<00:00,  7.78batch/s]\n"
     ]
    },
    {
     "name": "stdout",
     "output_type": "stream",
     "text": [
      "Количество шагов: 32\n",
      "FID: 10.38161919536128\n"
     ]
    },
    {
     "name": "stderr",
     "output_type": "stream",
     "text": [
      "3000 images saved: 100%|██████████| 3000/3000 [01:54<00:00, 26.09it/s]\n"
     ]
    },
    {
     "name": "stdout",
     "output_type": "stream",
     "text": [
      "Loading Inception-v3 model...\n",
      "Loading images from \"edm\"...\n",
      "Calculating statistics for 3000 images...\n"
     ]
    },
    {
     "name": "stderr",
     "output_type": "stream",
     "text": [
      "100%|██████████| 12/12 [00:01<00:00,  7.85batch/s]\n"
     ]
    },
    {
     "name": "stdout",
     "output_type": "stream",
     "text": [
      "Количество шагов: 50\n",
      "FID: 10.298870261625545\n"
     ]
    },
    {
     "name": "stderr",
     "output_type": "stream",
     "text": [
      "3000 images saved: 100%|██████████| 3000/3000 [03:45<00:00, 13.29it/s]\n"
     ]
    },
    {
     "name": "stdout",
     "output_type": "stream",
     "text": [
      "Loading Inception-v3 model...\n",
      "Loading images from \"edm\"...\n",
      "Calculating statistics for 3000 images...\n"
     ]
    },
    {
     "name": "stderr",
     "output_type": "stream",
     "text": [
      "100%|██████████| 12/12 [00:01<00:00,  7.62batch/s]\n"
     ]
    },
    {
     "name": "stdout",
     "output_type": "stream",
     "text": [
      "Количество шагов: 100\n",
      "FID: 10.335412234772337\n"
     ]
    },
    {
     "name": "stderr",
     "output_type": "stream",
     "text": [
      "3000 images saved: 100%|██████████| 3000/3000 [07:26<00:00,  6.71it/s]\n"
     ]
    },
    {
     "name": "stdout",
     "output_type": "stream",
     "text": [
      "Loading Inception-v3 model...\n",
      "Loading images from \"edm\"...\n",
      "Calculating statistics for 3000 images...\n"
     ]
    },
    {
     "name": "stderr",
     "output_type": "stream",
     "text": [
      "100%|██████████| 12/12 [00:01<00:00,  7.73batch/s]\n"
     ]
    },
    {
     "name": "stdout",
     "output_type": "stream",
     "text": [
      "Количество шагов: 200\n",
      "FID: 10.411211654540878\n"
     ]
    },
    {
     "name": "stderr",
     "output_type": "stream",
     "text": [
      "  0%|          | 0/3000 [00:33<?, ?it/s]\n"
     ]
    },
    {
     "ename": "KeyboardInterrupt",
     "evalue": "",
     "output_type": "error",
     "traceback": [
      "\u001b[0;31m---------------------------------------------------------------------------\u001b[0m",
      "\u001b[0;31mKeyboardInterrupt\u001b[0m                         Traceback (most recent call last)",
      "\u001b[0;32m/tmp/ipykernel_16273/1175687160.py\u001b[0m in \u001b[0;36m<cell line: 3>\u001b[0;34m()\u001b[0m\n\u001b[1;32m      2\u001b[0m \u001b[0medm_fids\u001b[0m \u001b[0;34m=\u001b[0m \u001b[0;34m[\u001b[0m\u001b[0;34m]\u001b[0m\u001b[0;34m\u001b[0m\u001b[0;34m\u001b[0m\u001b[0m\n\u001b[1;32m      3\u001b[0m \u001b[0;32mfor\u001b[0m \u001b[0mnum_steps\u001b[0m \u001b[0;32min\u001b[0m \u001b[0msteps_list\u001b[0m\u001b[0;34m:\u001b[0m\u001b[0;34m\u001b[0m\u001b[0;34m\u001b[0m\u001b[0m\n\u001b[0;32m----> 4\u001b[0;31m     \u001b[0msave_model_samples\u001b[0m\u001b[0;34m(\u001b[0m\u001b[0;34m'edm'\u001b[0m\u001b[0;34m,\u001b[0m \u001b[0mnet\u001b[0m\u001b[0;34m,\u001b[0m \u001b[0mbatch_size\u001b[0m\u001b[0;34m=\u001b[0m\u001b[0;36m256\u001b[0m\u001b[0;34m,\u001b[0m \u001b[0mnum_samples\u001b[0m\u001b[0;34m=\u001b[0m\u001b[0;36m3000\u001b[0m\u001b[0;34m,\u001b[0m \u001b[0msolver\u001b[0m\u001b[0;34m=\u001b[0m\u001b[0medm_solver\u001b[0m\u001b[0;34m,\u001b[0m \u001b[0mnum_steps\u001b[0m\u001b[0;34m=\u001b[0m\u001b[0mnum_steps\u001b[0m \u001b[0;34m//\u001b[0m \u001b[0;36m2\u001b[0m\u001b[0;34m)\u001b[0m\u001b[0;34m\u001b[0m\u001b[0;34m\u001b[0m\u001b[0m\n\u001b[0m\u001b[1;32m      5\u001b[0m     fid = calc_fid(image_path='edm', ref_path='https://nvlabs-fi-cdn.nvidia.com/edm/fid-refs/cifar10-32x32.npz',\n\u001b[1;32m      6\u001b[0m                         num_expected=3000, batch=256)\n",
      "\u001b[0;32m/tmp/ipykernel_16273/3682817359.py\u001b[0m in \u001b[0;36msave_model_samples\u001b[0;34m(name, model, batch_size, num_samples, solver, num_steps)\u001b[0m\n\u001b[1;32m     17\u001b[0m             \u001b[0mcur_batch_size\u001b[0m \u001b[0;34m=\u001b[0m \u001b[0mmin\u001b[0m\u001b[0;34m(\u001b[0m\u001b[0mnum_samples\u001b[0m \u001b[0;34m-\u001b[0m \u001b[0mcount\u001b[0m\u001b[0;34m,\u001b[0m \u001b[0mbatch_size\u001b[0m\u001b[0;34m)\u001b[0m\u001b[0;34m\u001b[0m\u001b[0;34m\u001b[0m\u001b[0m\n\u001b[1;32m     18\u001b[0m             \u001b[0mnoise\u001b[0m \u001b[0;34m=\u001b[0m \u001b[0mtorch\u001b[0m\u001b[0;34m.\u001b[0m\u001b[0mrandn\u001b[0m\u001b[0;34m(\u001b[0m\u001b[0mcur_batch_size\u001b[0m\u001b[0;34m,\u001b[0m \u001b[0;36m3\u001b[0m\u001b[0;34m,\u001b[0m \u001b[0;36m32\u001b[0m\u001b[0;34m,\u001b[0m \u001b[0;36m32\u001b[0m\u001b[0;34m)\u001b[0m\u001b[0;34m\u001b[0m\u001b[0;34m\u001b[0m\u001b[0m\n\u001b[0;32m---> 19\u001b[0;31m             \u001b[0mout\u001b[0m\u001b[0;34m,\u001b[0m \u001b[0m_\u001b[0m \u001b[0;34m=\u001b[0m \u001b[0msolver\u001b[0m\u001b[0;34m.\u001b[0m\u001b[0msample\u001b[0m\u001b[0;34m(\u001b[0m\u001b[0mnet\u001b[0m\u001b[0;34m,\u001b[0m \u001b[0mnoise\u001b[0m\u001b[0;34m,\u001b[0m \u001b[0mnum_steps\u001b[0m\u001b[0;34m=\u001b[0m\u001b[0mnum_steps\u001b[0m\u001b[0;34m)\u001b[0m\u001b[0;34m\u001b[0m\u001b[0;34m\u001b[0m\u001b[0m\n\u001b[0m\u001b[1;32m     20\u001b[0m             \u001b[0mout\u001b[0m \u001b[0;34m=\u001b[0m \u001b[0;34m(\u001b[0m\u001b[0mout\u001b[0m \u001b[0;34m*\u001b[0m \u001b[0;36m127.5\u001b[0m \u001b[0;34m+\u001b[0m \u001b[0;36m128\u001b[0m\u001b[0;34m)\u001b[0m\u001b[0;34m.\u001b[0m\u001b[0mclip\u001b[0m\u001b[0;34m(\u001b[0m\u001b[0;36m0\u001b[0m\u001b[0;34m,\u001b[0m \u001b[0;36m255\u001b[0m\u001b[0;34m)\u001b[0m\u001b[0;34m.\u001b[0m\u001b[0mto\u001b[0m\u001b[0;34m(\u001b[0m\u001b[0mtorch\u001b[0m\u001b[0;34m.\u001b[0m\u001b[0muint8\u001b[0m\u001b[0;34m)\u001b[0m\u001b[0;34m.\u001b[0m\u001b[0mpermute\u001b[0m\u001b[0;34m(\u001b[0m\u001b[0;36m0\u001b[0m\u001b[0;34m,\u001b[0m \u001b[0;36m2\u001b[0m\u001b[0;34m,\u001b[0m \u001b[0;36m3\u001b[0m\u001b[0;34m,\u001b[0m \u001b[0;36m1\u001b[0m\u001b[0;34m)\u001b[0m\u001b[0;34m.\u001b[0m\u001b[0mcpu\u001b[0m\u001b[0;34m(\u001b[0m\u001b[0;34m)\u001b[0m\u001b[0;34m.\u001b[0m\u001b[0mnumpy\u001b[0m\u001b[0;34m(\u001b[0m\u001b[0;34m)\u001b[0m\u001b[0;34m\u001b[0m\u001b[0;34m\u001b[0m\u001b[0m\n\u001b[1;32m     21\u001b[0m             \u001b[0;32mfor\u001b[0m \u001b[0mi\u001b[0m \u001b[0;32min\u001b[0m \u001b[0mrange\u001b[0m\u001b[0;34m(\u001b[0m\u001b[0mout\u001b[0m\u001b[0;34m.\u001b[0m\u001b[0mshape\u001b[0m\u001b[0;34m[\u001b[0m\u001b[0;36m0\u001b[0m\u001b[0;34m]\u001b[0m\u001b[0;34m)\u001b[0m\u001b[0;34m:\u001b[0m\u001b[0;34m\u001b[0m\u001b[0;34m\u001b[0m\u001b[0m\n",
      "\u001b[0;32m~/work/resources/solvers.py\u001b[0m in \u001b[0;36msample\u001b[0;34m(self, net, noise, sigma_min, sigma_max, num_steps, rho)\u001b[0m\n\u001b[1;32m     59\u001b[0m                 \u001b[0mdelta_t\u001b[0m \u001b[0;34m=\u001b[0m \u001b[0mt_next\u001b[0m \u001b[0;34m-\u001b[0m \u001b[0mt_cur\u001b[0m\u001b[0;34m\u001b[0m\u001b[0;34m\u001b[0m\u001b[0m\n\u001b[1;32m     60\u001b[0m \u001b[0;34m\u001b[0m\u001b[0m\n\u001b[0;32m---> 61\u001b[0;31m                 \u001b[0mvelocity_cur\u001b[0m \u001b[0;34m=\u001b[0m \u001b[0mself\u001b[0m\u001b[0;34m.\u001b[0m\u001b[0mget_velocity_from_denoiser\u001b[0m\u001b[0;34m(\u001b[0m\u001b[0mx\u001b[0m\u001b[0;34m,\u001b[0m \u001b[0mnet\u001b[0m\u001b[0;34m,\u001b[0m \u001b[0mt_net\u001b[0m\u001b[0;34m)\u001b[0m\u001b[0;34m\u001b[0m\u001b[0;34m\u001b[0m\u001b[0m\n\u001b[0m\u001b[1;32m     62\u001b[0m                 \u001b[0mx_hat\u001b[0m \u001b[0;34m=\u001b[0m \u001b[0mx\u001b[0m \u001b[0;34m+\u001b[0m \u001b[0mvelocity_cur\u001b[0m \u001b[0;34m*\u001b[0m \u001b[0mdelta_t\u001b[0m\u001b[0;34m\u001b[0m\u001b[0;34m\u001b[0m\u001b[0m\n\u001b[1;32m     63\u001b[0m \u001b[0;34m\u001b[0m\u001b[0m\n",
      "\u001b[0;32m~/work/resources/solvers.py\u001b[0m in \u001b[0;36mget_velocity_from_denoiser\u001b[0;34m(self, x, model, sigma, **model_kwargs)\u001b[0m\n\u001b[1;32m     17\u001b[0m     \u001b[0;32mdef\u001b[0m \u001b[0mget_velocity_from_denoiser\u001b[0m\u001b[0;34m(\u001b[0m\u001b[0mself\u001b[0m\u001b[0;34m,\u001b[0m \u001b[0mx\u001b[0m\u001b[0;34m,\u001b[0m \u001b[0mmodel\u001b[0m\u001b[0;34m,\u001b[0m \u001b[0msigma\u001b[0m\u001b[0;34m,\u001b[0m \u001b[0;34m**\u001b[0m\u001b[0mmodel_kwargs\u001b[0m\u001b[0;34m)\u001b[0m\u001b[0;34m:\u001b[0m\u001b[0;34m\u001b[0m\u001b[0;34m\u001b[0m\u001b[0m\n\u001b[1;32m     18\u001b[0m         \u001b[0msigma\u001b[0m \u001b[0;34m=\u001b[0m \u001b[0msigma\u001b[0m\u001b[0;34m[\u001b[0m\u001b[0;34m:\u001b[0m\u001b[0;34m,\u001b[0m \u001b[0;32mNone\u001b[0m\u001b[0;34m,\u001b[0m \u001b[0;32mNone\u001b[0m\u001b[0;34m,\u001b[0m \u001b[0;32mNone\u001b[0m\u001b[0;34m]\u001b[0m\u001b[0;34m\u001b[0m\u001b[0;34m\u001b[0m\u001b[0m\n\u001b[0;32m---> 19\u001b[0;31m         \u001b[0mdenoised\u001b[0m \u001b[0;34m=\u001b[0m \u001b[0mmodel\u001b[0m\u001b[0;34m(\u001b[0m\u001b[0mx\u001b[0m\u001b[0;34m,\u001b[0m \u001b[0msigma\u001b[0m\u001b[0;34m,\u001b[0m \u001b[0;34m**\u001b[0m\u001b[0mmodel_kwargs\u001b[0m\u001b[0;34m)\u001b[0m\u001b[0;34m\u001b[0m\u001b[0;34m\u001b[0m\u001b[0m\n\u001b[0m\u001b[1;32m     20\u001b[0m         \u001b[0mvelocity\u001b[0m \u001b[0;34m=\u001b[0m \u001b[0;34m(\u001b[0m\u001b[0mx\u001b[0m \u001b[0;34m-\u001b[0m \u001b[0mdenoised\u001b[0m\u001b[0;34m)\u001b[0m \u001b[0;34m/\u001b[0m \u001b[0msigma\u001b[0m\u001b[0;34m\u001b[0m\u001b[0;34m\u001b[0m\u001b[0m\n\u001b[1;32m     21\u001b[0m         \u001b[0;32mreturn\u001b[0m \u001b[0mvelocity\u001b[0m\u001b[0;34m\u001b[0m\u001b[0;34m\u001b[0m\u001b[0m\n",
      "\u001b[0;32m/usr/local/lib/python3.10/dist-packages/torch/nn/modules/module.py\u001b[0m in \u001b[0;36m_call_impl\u001b[0;34m(self, *args, **kwargs)\u001b[0m\n\u001b[1;32m   1499\u001b[0m                 \u001b[0;32mor\u001b[0m \u001b[0m_global_backward_pre_hooks\u001b[0m \u001b[0;32mor\u001b[0m \u001b[0m_global_backward_hooks\u001b[0m\u001b[0;34m\u001b[0m\u001b[0;34m\u001b[0m\u001b[0m\n\u001b[1;32m   1500\u001b[0m                 or _global_forward_hooks or _global_forward_pre_hooks):\n\u001b[0;32m-> 1501\u001b[0;31m             \u001b[0;32mreturn\u001b[0m \u001b[0mforward_call\u001b[0m\u001b[0;34m(\u001b[0m\u001b[0;34m*\u001b[0m\u001b[0margs\u001b[0m\u001b[0;34m,\u001b[0m \u001b[0;34m**\u001b[0m\u001b[0mkwargs\u001b[0m\u001b[0;34m)\u001b[0m\u001b[0;34m\u001b[0m\u001b[0;34m\u001b[0m\u001b[0m\n\u001b[0m\u001b[1;32m   1502\u001b[0m         \u001b[0;31m# Do not call functions when jit is used\u001b[0m\u001b[0;34m\u001b[0m\u001b[0;34m\u001b[0m\u001b[0m\n\u001b[1;32m   1503\u001b[0m         \u001b[0mfull_backward_hooks\u001b[0m\u001b[0;34m,\u001b[0m \u001b[0mnon_full_backward_hooks\u001b[0m \u001b[0;34m=\u001b[0m \u001b[0;34m[\u001b[0m\u001b[0;34m]\u001b[0m\u001b[0;34m,\u001b[0m \u001b[0;34m[\u001b[0m\u001b[0;34m]\u001b[0m\u001b[0;34m\u001b[0m\u001b[0;34m\u001b[0m\u001b[0m\n",
      "\u001b[0;32m<string>\u001b[0m in \u001b[0;36mforward\u001b[0;34m(self, x, sigma, class_labels, force_fp32, **model_kwargs)\u001b[0m\n",
      "\u001b[0;32m/usr/local/lib/python3.10/dist-packages/torch/nn/modules/module.py\u001b[0m in \u001b[0;36m_call_impl\u001b[0;34m(self, *args, **kwargs)\u001b[0m\n\u001b[1;32m   1499\u001b[0m                 \u001b[0;32mor\u001b[0m \u001b[0m_global_backward_pre_hooks\u001b[0m \u001b[0;32mor\u001b[0m \u001b[0m_global_backward_hooks\u001b[0m\u001b[0;34m\u001b[0m\u001b[0;34m\u001b[0m\u001b[0m\n\u001b[1;32m   1500\u001b[0m                 or _global_forward_hooks or _global_forward_pre_hooks):\n\u001b[0;32m-> 1501\u001b[0;31m             \u001b[0;32mreturn\u001b[0m \u001b[0mforward_call\u001b[0m\u001b[0;34m(\u001b[0m\u001b[0;34m*\u001b[0m\u001b[0margs\u001b[0m\u001b[0;34m,\u001b[0m \u001b[0;34m**\u001b[0m\u001b[0mkwargs\u001b[0m\u001b[0;34m)\u001b[0m\u001b[0;34m\u001b[0m\u001b[0;34m\u001b[0m\u001b[0m\n\u001b[0m\u001b[1;32m   1502\u001b[0m         \u001b[0;31m# Do not call functions when jit is used\u001b[0m\u001b[0;34m\u001b[0m\u001b[0;34m\u001b[0m\u001b[0m\n\u001b[1;32m   1503\u001b[0m         \u001b[0mfull_backward_hooks\u001b[0m\u001b[0;34m,\u001b[0m \u001b[0mnon_full_backward_hooks\u001b[0m \u001b[0;34m=\u001b[0m \u001b[0;34m[\u001b[0m\u001b[0;34m]\u001b[0m\u001b[0;34m,\u001b[0m \u001b[0;34m[\u001b[0m\u001b[0;34m]\u001b[0m\u001b[0;34m\u001b[0m\u001b[0;34m\u001b[0m\u001b[0m\n",
      "\u001b[0;32m<string>\u001b[0m in \u001b[0;36mforward\u001b[0;34m(self, x, noise_labels, class_labels, augment_labels)\u001b[0m\n",
      "\u001b[0;32m/usr/local/lib/python3.10/dist-packages/torch/nn/modules/module.py\u001b[0m in \u001b[0;36m_call_impl\u001b[0;34m(self, *args, **kwargs)\u001b[0m\n\u001b[1;32m   1499\u001b[0m                 \u001b[0;32mor\u001b[0m \u001b[0m_global_backward_pre_hooks\u001b[0m \u001b[0;32mor\u001b[0m \u001b[0m_global_backward_hooks\u001b[0m\u001b[0;34m\u001b[0m\u001b[0;34m\u001b[0m\u001b[0m\n\u001b[1;32m   1500\u001b[0m                 or _global_forward_hooks or _global_forward_pre_hooks):\n\u001b[0;32m-> 1501\u001b[0;31m             \u001b[0;32mreturn\u001b[0m \u001b[0mforward_call\u001b[0m\u001b[0;34m(\u001b[0m\u001b[0;34m*\u001b[0m\u001b[0margs\u001b[0m\u001b[0;34m,\u001b[0m \u001b[0;34m**\u001b[0m\u001b[0mkwargs\u001b[0m\u001b[0;34m)\u001b[0m\u001b[0;34m\u001b[0m\u001b[0;34m\u001b[0m\u001b[0m\n\u001b[0m\u001b[1;32m   1502\u001b[0m         \u001b[0;31m# Do not call functions when jit is used\u001b[0m\u001b[0;34m\u001b[0m\u001b[0;34m\u001b[0m\u001b[0m\n\u001b[1;32m   1503\u001b[0m         \u001b[0mfull_backward_hooks\u001b[0m\u001b[0;34m,\u001b[0m \u001b[0mnon_full_backward_hooks\u001b[0m \u001b[0;34m=\u001b[0m \u001b[0;34m[\u001b[0m\u001b[0;34m]\u001b[0m\u001b[0;34m,\u001b[0m \u001b[0;34m[\u001b[0m\u001b[0;34m]\u001b[0m\u001b[0;34m\u001b[0m\u001b[0;34m\u001b[0m\u001b[0m\n",
      "\u001b[0;32m<string>\u001b[0m in \u001b[0;36mforward\u001b[0;34m(self, x, emb)\u001b[0m\n",
      "\u001b[0;32m/usr/local/lib/python3.10/dist-packages/torch/nn/modules/module.py\u001b[0m in \u001b[0;36m_call_impl\u001b[0;34m(self, *args, **kwargs)\u001b[0m\n\u001b[1;32m   1499\u001b[0m                 \u001b[0;32mor\u001b[0m \u001b[0m_global_backward_pre_hooks\u001b[0m \u001b[0;32mor\u001b[0m \u001b[0m_global_backward_hooks\u001b[0m\u001b[0;34m\u001b[0m\u001b[0;34m\u001b[0m\u001b[0m\n\u001b[1;32m   1500\u001b[0m                 or _global_forward_hooks or _global_forward_pre_hooks):\n\u001b[0;32m-> 1501\u001b[0;31m             \u001b[0;32mreturn\u001b[0m \u001b[0mforward_call\u001b[0m\u001b[0;34m(\u001b[0m\u001b[0;34m*\u001b[0m\u001b[0margs\u001b[0m\u001b[0;34m,\u001b[0m \u001b[0;34m**\u001b[0m\u001b[0mkwargs\u001b[0m\u001b[0;34m)\u001b[0m\u001b[0;34m\u001b[0m\u001b[0;34m\u001b[0m\u001b[0m\n\u001b[0m\u001b[1;32m   1502\u001b[0m         \u001b[0;31m# Do not call functions when jit is used\u001b[0m\u001b[0;34m\u001b[0m\u001b[0;34m\u001b[0m\u001b[0m\n\u001b[1;32m   1503\u001b[0m         \u001b[0mfull_backward_hooks\u001b[0m\u001b[0;34m,\u001b[0m \u001b[0mnon_full_backward_hooks\u001b[0m \u001b[0;34m=\u001b[0m \u001b[0;34m[\u001b[0m\u001b[0;34m]\u001b[0m\u001b[0;34m,\u001b[0m \u001b[0;34m[\u001b[0m\u001b[0;34m]\u001b[0m\u001b[0;34m\u001b[0m\u001b[0;34m\u001b[0m\u001b[0m\n",
      "\u001b[0;32m<string>\u001b[0m in \u001b[0;36mforward\u001b[0;34m(self, x)\u001b[0m\n",
      "\u001b[0;31mKeyboardInterrupt\u001b[0m: "
     ]
    }
   ],
   "source": [
    "edm_solver = EDM()\n",
    "edm_fids = []\n",
    "for num_steps in steps_list:\n",
    "    save_model_samples('edm', net, batch_size=256, num_samples=3000, solver=edm_solver, num_steps=num_steps // 2)\n",
    "    fid = calc_fid(image_path='edm', ref_path='https://nvlabs-fi-cdn.nvidia.com/edm/fid-refs/cifar10-32x32.npz',\n",
    "                        num_expected=3000, batch=256)\n",
    "    print(f'Количество шагов: {num_steps}\\nFID: {fid}')\n",
    "    edm_fids.append(fid)\n",
    "print(edm_fids)"
   ]
  },
  {
   "cell_type": "code",
   "execution_count": 33,
   "metadata": {
    "execution": {
     "iopub.execute_input": "2024-12-21T10:11:25.127729Z",
     "iopub.status.busy": "2024-12-21T10:11:25.127284Z",
     "iopub.status.idle": "2024-12-21T10:28:55.852577Z",
     "shell.execute_reply": "2024-12-21T10:28:55.851683Z",
     "shell.execute_reply.started": "2024-12-21T10:11:25.127707Z"
    },
    "id": "QjexGjnwnjal",
    "tags": []
   },
   "outputs": [
    {
     "name": "stderr",
     "output_type": "stream",
     "text": [
      "3000 images saved: 100%|██████████| 3000/3000 [00:28<00:00, 103.92it/s]\n"
     ]
    },
    {
     "name": "stdout",
     "output_type": "stream",
     "text": [
      "Loading Inception-v3 model...\n",
      "Loading images from \"euler\"...\n",
      "Calculating statistics for 3000 images...\n"
     ]
    },
    {
     "name": "stderr",
     "output_type": "stream",
     "text": [
      "100%|██████████| 12/12 [00:01<00:00,  7.70batch/s]\n"
     ]
    },
    {
     "name": "stdout",
     "output_type": "stream",
     "text": [
      "Количество шагов: 10\n",
      "FID: 26.844461803981506\n"
     ]
    },
    {
     "name": "stderr",
     "output_type": "stream",
     "text": [
      "3000 images saved: 100%|██████████| 3000/3000 [00:42<00:00, 71.26it/s] \n"
     ]
    },
    {
     "name": "stdout",
     "output_type": "stream",
     "text": [
      "Loading Inception-v3 model...\n",
      "Loading images from \"euler\"...\n",
      "Calculating statistics for 3000 images...\n"
     ]
    },
    {
     "name": "stderr",
     "output_type": "stream",
     "text": [
      "100%|██████████| 12/12 [00:01<00:00,  7.72batch/s]\n"
     ]
    },
    {
     "name": "stdout",
     "output_type": "stream",
     "text": [
      "Количество шагов: 16\n",
      "FID: 17.712410406935714\n"
     ]
    },
    {
     "name": "stderr",
     "output_type": "stream",
     "text": [
      "3000 images saved: 100%|██████████| 3000/3000 [00:50<00:00, 58.83it/s] \n"
     ]
    },
    {
     "name": "stdout",
     "output_type": "stream",
     "text": [
      "Loading Inception-v3 model...\n",
      "Loading images from \"euler\"...\n",
      "Calculating statistics for 3000 images...\n"
     ]
    },
    {
     "name": "stderr",
     "output_type": "stream",
     "text": [
      "100%|██████████| 12/12 [00:01<00:00,  7.72batch/s]\n"
     ]
    },
    {
     "name": "stdout",
     "output_type": "stream",
     "text": [
      "Количество шагов: 20\n",
      "FID: 14.98302567970168\n"
     ]
    },
    {
     "name": "stderr",
     "output_type": "stream",
     "text": [
      "3000 images saved: 100%|██████████| 3000/3000 [01:17<00:00, 38.72it/s] \n"
     ]
    },
    {
     "name": "stdout",
     "output_type": "stream",
     "text": [
      "Loading Inception-v3 model...\n",
      "Loading images from \"euler\"...\n",
      "Calculating statistics for 3000 images...\n"
     ]
    },
    {
     "name": "stderr",
     "output_type": "stream",
     "text": [
      "100%|██████████| 12/12 [00:01<00:00,  7.78batch/s]\n"
     ]
    },
    {
     "name": "stdout",
     "output_type": "stream",
     "text": [
      "Количество шагов: 32\n",
      "FID: 12.589618522239792\n"
     ]
    },
    {
     "name": "stderr",
     "output_type": "stream",
     "text": [
      "3000 images saved: 100%|██████████| 3000/3000 [01:57<00:00, 25.57it/s]\n"
     ]
    },
    {
     "name": "stdout",
     "output_type": "stream",
     "text": [
      "Loading Inception-v3 model...\n",
      "Loading images from \"euler\"...\n",
      "Calculating statistics for 3000 images...\n"
     ]
    },
    {
     "name": "stderr",
     "output_type": "stream",
     "text": [
      "100%|██████████| 12/12 [00:01<00:00,  7.72batch/s]\n"
     ]
    },
    {
     "name": "stdout",
     "output_type": "stream",
     "text": [
      "Количество шагов: 50\n",
      "FID: 11.364400188297951\n"
     ]
    },
    {
     "name": "stderr",
     "output_type": "stream",
     "text": [
      "3000 images saved: 100%|██████████| 3000/3000 [03:47<00:00, 13.17it/s]\n"
     ]
    },
    {
     "name": "stdout",
     "output_type": "stream",
     "text": [
      "Loading Inception-v3 model...\n",
      "Loading images from \"euler\"...\n",
      "Calculating statistics for 3000 images...\n"
     ]
    },
    {
     "name": "stderr",
     "output_type": "stream",
     "text": [
      "100%|██████████| 12/12 [00:01<00:00,  7.73batch/s]\n"
     ]
    },
    {
     "name": "stdout",
     "output_type": "stream",
     "text": [
      "Количество шагов: 100\n",
      "FID: 10.552214882122788\n"
     ]
    },
    {
     "name": "stderr",
     "output_type": "stream",
     "text": [
      "3000 images saved: 100%|██████████| 3000/3000 [07:28<00:00,  6.68it/s]\n"
     ]
    },
    {
     "name": "stdout",
     "output_type": "stream",
     "text": [
      "Loading Inception-v3 model...\n",
      "Loading images from \"euler\"...\n",
      "Calculating statistics for 3000 images...\n"
     ]
    },
    {
     "name": "stderr",
     "output_type": "stream",
     "text": [
      "100%|██████████| 12/12 [00:01<00:00,  7.63batch/s]\n"
     ]
    },
    {
     "name": "stdout",
     "output_type": "stream",
     "text": [
      "Количество шагов: 200\n",
      "FID: 10.449608579473674\n",
      "[26.844461803981506, 17.712410406935714, 14.98302567970168, 12.589618522239792, 11.364400188297951, 10.552214882122788, 10.449608579473674]\n"
     ]
    }
   ],
   "source": [
    "euler = EulerSolver()\n",
    "euler_fids = []\n",
    "for num_steps in steps_list:\n",
    "    save_model_samples('euler', net, batch_size=256, num_samples=3000, solver=euler, num_steps=num_steps)\n",
    "    fid = calc_fid(image_path='euler', ref_path='https://nvlabs-fi-cdn.nvidia.com/edm/fid-refs/cifar10-32x32.npz',\n",
    "                        num_expected=3000, batch=256)\n",
    "    print(f'Количество шагов: {num_steps}\\nFID: {fid}')\n",
    "    euler_fids.append(fid)\n",
    "print(euler_fids)"
   ]
  },
  {
   "cell_type": "code",
   "execution_count": 41,
   "metadata": {
    "execution": {
     "iopub.execute_input": "2024-12-21T11:19:10.330426Z",
     "iopub.status.busy": "2024-12-21T11:19:10.329816Z",
     "iopub.status.idle": "2024-12-21T11:36:21.992922Z",
     "shell.execute_reply": "2024-12-21T11:36:21.992064Z",
     "shell.execute_reply.started": "2024-12-21T11:19:10.330382Z"
    },
    "tags": []
   },
   "outputs": [
    {
     "name": "stderr",
     "output_type": "stream",
     "text": [
      "3000 images saved: 100%|██████████| 3000/3000 [00:26<00:00, 113.10it/s]\n"
     ]
    },
    {
     "name": "stdout",
     "output_type": "stream",
     "text": [
      "Loading Inception-v3 model...\n",
      "Loading images from \"euler\"...\n",
      "Calculating statistics for 3000 images...\n"
     ]
    },
    {
     "name": "stderr",
     "output_type": "stream",
     "text": [
      "100%|██████████| 12/12 [00:01<00:00,  7.68batch/s]\n"
     ]
    },
    {
     "name": "stdout",
     "output_type": "stream",
     "text": [
      "Количество шагов: 10\n",
      "FID: 22.93739399866815\n"
     ]
    },
    {
     "name": "stderr",
     "output_type": "stream",
     "text": [
      "3000 images saved: 100%|██████████| 3000/3000 [00:39<00:00, 75.96it/s] \n"
     ]
    },
    {
     "name": "stdout",
     "output_type": "stream",
     "text": [
      "Loading Inception-v3 model...\n",
      "Loading images from \"euler\"...\n",
      "Calculating statistics for 3000 images...\n"
     ]
    },
    {
     "name": "stderr",
     "output_type": "stream",
     "text": [
      "100%|██████████| 12/12 [00:01<00:00,  7.64batch/s]\n"
     ]
    },
    {
     "name": "stdout",
     "output_type": "stream",
     "text": [
      "Количество шагов: 16\n",
      "FID: 16.096332556222816\n"
     ]
    },
    {
     "name": "stderr",
     "output_type": "stream",
     "text": [
      "3000 images saved: 100%|██████████| 3000/3000 [00:48<00:00, 61.78it/s] \n"
     ]
    },
    {
     "name": "stdout",
     "output_type": "stream",
     "text": [
      "Loading Inception-v3 model...\n",
      "Loading images from \"euler\"...\n",
      "Calculating statistics for 3000 images...\n"
     ]
    },
    {
     "name": "stderr",
     "output_type": "stream",
     "text": [
      "100%|██████████| 12/12 [00:01<00:00,  7.68batch/s]\n"
     ]
    },
    {
     "name": "stdout",
     "output_type": "stream",
     "text": [
      "Количество шагов: 20\n",
      "FID: 15.25610274650886\n"
     ]
    },
    {
     "name": "stderr",
     "output_type": "stream",
     "text": [
      "3000 images saved: 100%|██████████| 3000/3000 [01:14<00:00, 40.04it/s] \n"
     ]
    },
    {
     "name": "stdout",
     "output_type": "stream",
     "text": [
      "Loading Inception-v3 model...\n",
      "Loading images from \"euler\"...\n",
      "Calculating statistics for 3000 images...\n"
     ]
    },
    {
     "name": "stderr",
     "output_type": "stream",
     "text": [
      "100%|██████████| 12/12 [00:01<00:00,  7.68batch/s]\n"
     ]
    },
    {
     "name": "stdout",
     "output_type": "stream",
     "text": [
      "Количество шагов: 32\n",
      "FID: 12.78783796967799\n"
     ]
    },
    {
     "name": "stderr",
     "output_type": "stream",
     "text": [
      "3000 images saved: 100%|██████████| 3000/3000 [01:54<00:00, 26.14it/s]\n"
     ]
    },
    {
     "name": "stdout",
     "output_type": "stream",
     "text": [
      "Loading Inception-v3 model...\n",
      "Loading images from \"euler\"...\n",
      "Calculating statistics for 3000 images...\n"
     ]
    },
    {
     "name": "stderr",
     "output_type": "stream",
     "text": [
      "100%|██████████| 12/12 [00:01<00:00,  7.69batch/s]\n"
     ]
    },
    {
     "name": "stdout",
     "output_type": "stream",
     "text": [
      "Количество шагов: 50\n",
      "FID: 11.870070079133955\n"
     ]
    },
    {
     "name": "stderr",
     "output_type": "stream",
     "text": [
      "3000 images saved: 100%|██████████| 3000/3000 [03:45<00:00, 13.33it/s]\n"
     ]
    },
    {
     "name": "stdout",
     "output_type": "stream",
     "text": [
      "Loading Inception-v3 model...\n",
      "Loading images from \"euler\"...\n",
      "Calculating statistics for 3000 images...\n"
     ]
    },
    {
     "name": "stderr",
     "output_type": "stream",
     "text": [
      "100%|██████████| 12/12 [00:01<00:00,  7.71batch/s]\n"
     ]
    },
    {
     "name": "stdout",
     "output_type": "stream",
     "text": [
      "Количество шагов: 100\n",
      "FID: 11.18229354586694\n"
     ]
    },
    {
     "name": "stderr",
     "output_type": "stream",
     "text": [
      "3000 images saved: 100%|██████████| 3000/3000 [07:25<00:00,  6.73it/s]\n"
     ]
    },
    {
     "name": "stdout",
     "output_type": "stream",
     "text": [
      "Loading Inception-v3 model...\n",
      "Loading images from \"euler\"...\n",
      "Calculating statistics for 3000 images...\n"
     ]
    },
    {
     "name": "stderr",
     "output_type": "stream",
     "text": [
      "100%|██████████| 12/12 [00:01<00:00,  7.63batch/s]\n"
     ]
    },
    {
     "name": "stdout",
     "output_type": "stream",
     "text": [
      "Количество шагов: 200\n",
      "FID: 11.170857750532603\n",
      "[22.93739399866815, 16.096332556222816, 15.25610274650886, 12.78783796967799, 11.870070079133955, 11.18229354586694, 11.170857750532603]\n"
     ]
    }
   ],
   "source": [
    "ddim_linear = DDIMSolver()\n",
    "ddim_linear_fids_200 = []\n",
    "sampling_params = {\n",
    "    \"max_steps\": 10,\n",
    "    \"steps_schedule\": \"linear\",\n",
    "    \"beta_start\" : 2e-5,\n",
    "    \"beta_end\" : 2e-2 - 1e-4\n",
    "}\n",
    "for num_steps in steps_list:\n",
    "    sampling_params[\"max_steps\"] = num_steps\n",
    "    save_model_samples('euler', net, batch_size=256, num_samples=3000, solver=ddim_linear, num_steps=200, **sampling_params)\n",
    "    fid = calc_fid(image_path='euler', ref_path='https://nvlabs-fi-cdn.nvidia.com/edm/fid-refs/cifar10-32x32.npz',\n",
    "                        num_expected=3000, batch=256)\n",
    "    print(f'Количество шагов: {num_steps}\\nFID: {fid}')\n",
    "    ddim_linear_fids_200.append(fid)\n",
    "print(ddim_linear_fids_200)"
   ]
  },
  {
   "cell_type": "code",
   "execution_count": 42,
   "metadata": {
    "execution": {
     "iopub.execute_input": "2024-12-21T11:36:29.845328Z",
     "iopub.status.busy": "2024-12-21T11:36:29.844838Z",
     "iopub.status.idle": "2024-12-21T11:53:42.909803Z",
     "shell.execute_reply": "2024-12-21T11:53:42.908962Z",
     "shell.execute_reply.started": "2024-12-21T11:36:29.845304Z"
    },
    "tags": []
   },
   "outputs": [
    {
     "name": "stderr",
     "output_type": "stream",
     "text": [
      "3000 images saved: 100%|██████████| 3000/3000 [00:26<00:00, 113.05it/s]\n"
     ]
    },
    {
     "name": "stdout",
     "output_type": "stream",
     "text": [
      "Loading Inception-v3 model...\n",
      "Loading images from \"euler\"...\n",
      "Calculating statistics for 3000 images...\n"
     ]
    },
    {
     "name": "stderr",
     "output_type": "stream",
     "text": [
      "100%|██████████| 12/12 [00:01<00:00,  7.73batch/s]\n"
     ]
    },
    {
     "name": "stdout",
     "output_type": "stream",
     "text": [
      "Количество шагов: 10\n",
      "FID: 21.34097931643891\n"
     ]
    },
    {
     "name": "stderr",
     "output_type": "stream",
     "text": [
      "3000 images saved: 100%|██████████| 3000/3000 [00:39<00:00, 75.74it/s] \n"
     ]
    },
    {
     "name": "stdout",
     "output_type": "stream",
     "text": [
      "Loading Inception-v3 model...\n",
      "Loading images from \"euler\"...\n",
      "Calculating statistics for 3000 images...\n"
     ]
    },
    {
     "name": "stderr",
     "output_type": "stream",
     "text": [
      "100%|██████████| 12/12 [00:01<00:00,  7.75batch/s]\n"
     ]
    },
    {
     "name": "stdout",
     "output_type": "stream",
     "text": [
      "Количество шагов: 16\n",
      "FID: 15.941764984252055\n"
     ]
    },
    {
     "name": "stderr",
     "output_type": "stream",
     "text": [
      "3000 images saved: 100%|██████████| 3000/3000 [00:48<00:00, 61.64it/s] \n"
     ]
    },
    {
     "name": "stdout",
     "output_type": "stream",
     "text": [
      "Loading Inception-v3 model...\n",
      "Loading images from \"euler\"...\n",
      "Calculating statistics for 3000 images...\n"
     ]
    },
    {
     "name": "stderr",
     "output_type": "stream",
     "text": [
      "100%|██████████| 12/12 [00:01<00:00,  7.69batch/s]\n"
     ]
    },
    {
     "name": "stdout",
     "output_type": "stream",
     "text": [
      "Количество шагов: 20\n",
      "FID: 14.575030582320274\n"
     ]
    },
    {
     "name": "stderr",
     "output_type": "stream",
     "text": [
      "3000 images saved: 100%|██████████| 3000/3000 [01:14<00:00, 40.04it/s] \n"
     ]
    },
    {
     "name": "stdout",
     "output_type": "stream",
     "text": [
      "Loading Inception-v3 model...\n",
      "Loading images from \"euler\"...\n",
      "Calculating statistics for 3000 images...\n"
     ]
    },
    {
     "name": "stderr",
     "output_type": "stream",
     "text": [
      "100%|██████████| 12/12 [00:01<00:00,  7.58batch/s]\n"
     ]
    },
    {
     "name": "stdout",
     "output_type": "stream",
     "text": [
      "Количество шагов: 32\n",
      "FID: 12.450652112287859\n"
     ]
    },
    {
     "name": "stderr",
     "output_type": "stream",
     "text": [
      "3000 images saved: 100%|██████████| 3000/3000 [01:54<00:00, 26.17it/s]\n"
     ]
    },
    {
     "name": "stdout",
     "output_type": "stream",
     "text": [
      "Loading Inception-v3 model...\n",
      "Loading images from \"euler\"...\n",
      "Calculating statistics for 3000 images...\n"
     ]
    },
    {
     "name": "stderr",
     "output_type": "stream",
     "text": [
      "100%|██████████| 12/12 [00:01<00:00,  7.79batch/s]\n"
     ]
    },
    {
     "name": "stdout",
     "output_type": "stream",
     "text": [
      "Количество шагов: 50\n",
      "FID: 11.641469473739653\n"
     ]
    },
    {
     "name": "stderr",
     "output_type": "stream",
     "text": [
      "3000 images saved: 100%|██████████| 3000/3000 [03:45<00:00, 13.33it/s]\n"
     ]
    },
    {
     "name": "stdout",
     "output_type": "stream",
     "text": [
      "Loading Inception-v3 model...\n",
      "Loading images from \"euler\"...\n",
      "Calculating statistics for 3000 images...\n"
     ]
    },
    {
     "name": "stderr",
     "output_type": "stream",
     "text": [
      "100%|██████████| 12/12 [00:01<00:00,  7.67batch/s]\n"
     ]
    },
    {
     "name": "stdout",
     "output_type": "stream",
     "text": [
      "Количество шагов: 100\n",
      "FID: 11.047213925043158\n"
     ]
    },
    {
     "name": "stderr",
     "output_type": "stream",
     "text": [
      "3000 images saved: 100%|██████████| 3000/3000 [07:25<00:00,  6.73it/s]\n"
     ]
    },
    {
     "name": "stdout",
     "output_type": "stream",
     "text": [
      "Loading Inception-v3 model...\n",
      "Loading images from \"euler\"...\n",
      "Calculating statistics for 3000 images...\n"
     ]
    },
    {
     "name": "stderr",
     "output_type": "stream",
     "text": [
      "100%|██████████| 12/12 [00:01<00:00,  7.76batch/s]\n"
     ]
    },
    {
     "name": "stdout",
     "output_type": "stream",
     "text": [
      "Количество шагов: 200\n",
      "FID: 10.521099252377805\n",
      "[21.34097931643891, 15.941764984252055, 14.575030582320274, 12.450652112287859, 11.641469473739653, 11.047213925043158, 10.521099252377805]\n"
     ]
    }
   ],
   "source": [
    "ddim_linear = DDIMSolver()\n",
    "ddim_linear_fids_500 = []\n",
    "sampling_params = {\n",
    "    \"max_steps\": 10,\n",
    "    \"steps_schedule\": \"linear\",\n",
    "    \"beta_start\" : 2e-5,\n",
    "    \"beta_end\" : 2e-2 - 1e-4\n",
    "}\n",
    "for num_steps in steps_list:\n",
    "    sampling_params[\"max_steps\"] = num_steps\n",
    "    save_model_samples('euler', net, batch_size=256, num_samples=3000, solver=ddim_linear, num_steps=500, **sampling_params)\n",
    "    fid = calc_fid(image_path='euler', ref_path='https://nvlabs-fi-cdn.nvidia.com/edm/fid-refs/cifar10-32x32.npz',\n",
    "                        num_expected=3000, batch=256)\n",
    "    print(f'Количество шагов: {num_steps}\\nFID: {fid}')\n",
    "    ddim_linear_fids_500.append(fid)\n",
    "print(ddim_linear_fids_500)"
   ]
  },
  {
   "cell_type": "code",
   "execution_count": 43,
   "metadata": {
    "execution": {
     "iopub.execute_input": "2024-12-21T11:53:42.937878Z",
     "iopub.status.busy": "2024-12-21T11:53:42.936968Z",
     "iopub.status.idle": "2024-12-21T12:10:56.322945Z",
     "shell.execute_reply": "2024-12-21T12:10:56.322045Z",
     "shell.execute_reply.started": "2024-12-21T11:53:42.937849Z"
    },
    "tags": []
   },
   "outputs": [
    {
     "name": "stderr",
     "output_type": "stream",
     "text": [
      "3000 images saved: 100%|██████████| 3000/3000 [00:26<00:00, 113.34it/s]\n"
     ]
    },
    {
     "name": "stdout",
     "output_type": "stream",
     "text": [
      "Loading Inception-v3 model...\n",
      "Loading images from \"euler\"...\n",
      "Calculating statistics for 3000 images...\n"
     ]
    },
    {
     "name": "stderr",
     "output_type": "stream",
     "text": [
      "100%|██████████| 12/12 [00:01<00:00,  7.66batch/s]\n"
     ]
    },
    {
     "name": "stdout",
     "output_type": "stream",
     "text": [
      "Количество шагов: 10\n",
      "FID: 21.84914491704103\n"
     ]
    },
    {
     "name": "stderr",
     "output_type": "stream",
     "text": [
      "3000 images saved: 100%|██████████| 3000/3000 [00:39<00:00, 75.53it/s] \n"
     ]
    },
    {
     "name": "stdout",
     "output_type": "stream",
     "text": [
      "Loading Inception-v3 model...\n",
      "Loading images from \"euler\"...\n",
      "Calculating statistics for 3000 images...\n"
     ]
    },
    {
     "name": "stderr",
     "output_type": "stream",
     "text": [
      "100%|██████████| 12/12 [00:01<00:00,  7.69batch/s]\n"
     ]
    },
    {
     "name": "stdout",
     "output_type": "stream",
     "text": [
      "Количество шагов: 16\n",
      "FID: 17.69460420224748\n"
     ]
    },
    {
     "name": "stderr",
     "output_type": "stream",
     "text": [
      "3000 images saved: 100%|██████████| 3000/3000 [00:48<00:00, 61.94it/s] \n"
     ]
    },
    {
     "name": "stdout",
     "output_type": "stream",
     "text": [
      "Loading Inception-v3 model...\n",
      "Loading images from \"euler\"...\n",
      "Calculating statistics for 3000 images...\n"
     ]
    },
    {
     "name": "stderr",
     "output_type": "stream",
     "text": [
      "100%|██████████| 12/12 [00:01<00:00,  7.53batch/s]\n"
     ]
    },
    {
     "name": "stdout",
     "output_type": "stream",
     "text": [
      "Количество шагов: 20\n",
      "FID: 15.653484062956188\n"
     ]
    },
    {
     "name": "stderr",
     "output_type": "stream",
     "text": [
      "3000 images saved: 100%|██████████| 3000/3000 [01:15<00:00, 39.93it/s] \n"
     ]
    },
    {
     "name": "stdout",
     "output_type": "stream",
     "text": [
      "Loading Inception-v3 model...\n",
      "Loading images from \"euler\"...\n",
      "Calculating statistics for 3000 images...\n"
     ]
    },
    {
     "name": "stderr",
     "output_type": "stream",
     "text": [
      "100%|██████████| 12/12 [00:01<00:00,  7.67batch/s]\n"
     ]
    },
    {
     "name": "stdout",
     "output_type": "stream",
     "text": [
      "Количество шагов: 32\n",
      "FID: 13.88582033078037\n"
     ]
    },
    {
     "name": "stderr",
     "output_type": "stream",
     "text": [
      "3000 images saved: 100%|██████████| 3000/3000 [01:54<00:00, 26.15it/s]\n"
     ]
    },
    {
     "name": "stdout",
     "output_type": "stream",
     "text": [
      "Loading Inception-v3 model...\n",
      "Loading images from \"euler\"...\n",
      "Calculating statistics for 3000 images...\n"
     ]
    },
    {
     "name": "stderr",
     "output_type": "stream",
     "text": [
      "100%|██████████| 12/12 [00:01<00:00,  7.68batch/s]\n"
     ]
    },
    {
     "name": "stdout",
     "output_type": "stream",
     "text": [
      "Количество шагов: 50\n",
      "FID: 12.10152036598367\n"
     ]
    },
    {
     "name": "stderr",
     "output_type": "stream",
     "text": [
      "3000 images saved: 100%|██████████| 3000/3000 [03:45<00:00, 13.32it/s]\n"
     ]
    },
    {
     "name": "stdout",
     "output_type": "stream",
     "text": [
      "Loading Inception-v3 model...\n",
      "Loading images from \"euler\"...\n",
      "Calculating statistics for 3000 images...\n"
     ]
    },
    {
     "name": "stderr",
     "output_type": "stream",
     "text": [
      "100%|██████████| 12/12 [00:01<00:00,  7.72batch/s]\n"
     ]
    },
    {
     "name": "stdout",
     "output_type": "stream",
     "text": [
      "Количество шагов: 100\n",
      "FID: 11.217158953119739\n"
     ]
    },
    {
     "name": "stderr",
     "output_type": "stream",
     "text": [
      "3000 images saved: 100%|██████████| 3000/3000 [07:25<00:00,  6.73it/s]\n"
     ]
    },
    {
     "name": "stdout",
     "output_type": "stream",
     "text": [
      "Loading Inception-v3 model...\n",
      "Loading images from \"euler\"...\n",
      "Calculating statistics for 3000 images...\n"
     ]
    },
    {
     "name": "stderr",
     "output_type": "stream",
     "text": [
      "100%|██████████| 12/12 [00:01<00:00,  7.74batch/s]\n"
     ]
    },
    {
     "name": "stdout",
     "output_type": "stream",
     "text": [
      "Количество шагов: 200\n",
      "FID: 10.733317744845207\n",
      "[21.84914491704103, 17.69460420224748, 15.653484062956188, 13.88582033078037, 12.10152036598367, 11.217158953119739, 10.733317744845207]\n"
     ]
    }
   ],
   "source": [
    "ddim_linear = DDIMSolver()\n",
    "ddim_linear_fids_1000 = []\n",
    "sampling_params = {\n",
    "    \"max_steps\": 10,\n",
    "    \"steps_schedule\": \"linear\",\n",
    "    \"beta_start\" : 2e-5,\n",
    "    \"beta_end\" : 2e-2 - 1e-4\n",
    "}\n",
    "for num_steps in steps_list:\n",
    "    sampling_params[\"max_steps\"] = num_steps\n",
    "    save_model_samples('euler', net, batch_size=256, num_samples=3000, solver=ddim_linear, num_steps=1000, **sampling_params)\n",
    "    fid = calc_fid(image_path='euler', ref_path='https://nvlabs-fi-cdn.nvidia.com/edm/fid-refs/cifar10-32x32.npz',\n",
    "                        num_expected=3000, batch=256)\n",
    "    print(f'Количество шагов: {num_steps}\\nFID: {fid}')\n",
    "    ddim_linear_fids_1000.append(fid)\n",
    "print(ddim_linear_fids_1000)"
   ]
  },
  {
   "cell_type": "code",
   "execution_count": 77,
   "metadata": {
    "execution": {
     "iopub.execute_input": "2024-12-21T13:25:28.736852Z",
     "iopub.status.busy": "2024-12-21T13:25:28.736454Z",
     "iopub.status.idle": "2024-12-21T13:42:41.342445Z",
     "shell.execute_reply": "2024-12-21T13:42:41.341572Z",
     "shell.execute_reply.started": "2024-12-21T13:25:28.736820Z"
    },
    "tags": []
   },
   "outputs": [
    {
     "name": "stderr",
     "output_type": "stream",
     "text": [
      "3000 images saved: 100%|██████████| 3000/3000 [00:26<00:00, 113.27it/s]\n"
     ]
    },
    {
     "name": "stdout",
     "output_type": "stream",
     "text": [
      "Loading Inception-v3 model...\n",
      "Loading images from \"dpm\"...\n",
      "Calculating statistics for 3000 images...\n"
     ]
    },
    {
     "name": "stderr",
     "output_type": "stream",
     "text": [
      "100%|██████████| 12/12 [00:01<00:00,  7.77batch/s]\n"
     ]
    },
    {
     "name": "stdout",
     "output_type": "stream",
     "text": [
      "Количество шагов: 10\n",
      "FID: 18.97992915596248\n"
     ]
    },
    {
     "name": "stderr",
     "output_type": "stream",
     "text": [
      "3000 images saved: 100%|██████████| 3000/3000 [00:39<00:00, 75.34it/s] \n"
     ]
    },
    {
     "name": "stdout",
     "output_type": "stream",
     "text": [
      "Loading Inception-v3 model...\n",
      "Loading images from \"dpm\"...\n",
      "Calculating statistics for 3000 images...\n"
     ]
    },
    {
     "name": "stderr",
     "output_type": "stream",
     "text": [
      "100%|██████████| 12/12 [00:01<00:00,  7.69batch/s]\n"
     ]
    },
    {
     "name": "stdout",
     "output_type": "stream",
     "text": [
      "Количество шагов: 16\n",
      "FID: 15.035623636760402\n"
     ]
    },
    {
     "name": "stderr",
     "output_type": "stream",
     "text": [
      "3000 images saved: 100%|██████████| 3000/3000 [00:48<00:00, 61.84it/s] \n"
     ]
    },
    {
     "name": "stdout",
     "output_type": "stream",
     "text": [
      "Loading Inception-v3 model...\n",
      "Loading images from \"dpm\"...\n",
      "Calculating statistics for 3000 images...\n"
     ]
    },
    {
     "name": "stderr",
     "output_type": "stream",
     "text": [
      "100%|██████████| 12/12 [00:01<00:00,  7.73batch/s]\n"
     ]
    },
    {
     "name": "stdout",
     "output_type": "stream",
     "text": [
      "Количество шагов: 20\n",
      "FID: 13.778422199154326\n"
     ]
    },
    {
     "name": "stderr",
     "output_type": "stream",
     "text": [
      "3000 images saved: 100%|██████████| 3000/3000 [01:15<00:00, 39.94it/s] \n"
     ]
    },
    {
     "name": "stdout",
     "output_type": "stream",
     "text": [
      "Loading Inception-v3 model...\n",
      "Loading images from \"dpm\"...\n",
      "Calculating statistics for 3000 images...\n"
     ]
    },
    {
     "name": "stderr",
     "output_type": "stream",
     "text": [
      "100%|██████████| 12/12 [00:01<00:00,  7.76batch/s]\n"
     ]
    },
    {
     "name": "stdout",
     "output_type": "stream",
     "text": [
      "Количество шагов: 32\n",
      "FID: 12.823173619311236\n"
     ]
    },
    {
     "name": "stderr",
     "output_type": "stream",
     "text": [
      "3000 images saved: 100%|██████████| 3000/3000 [01:54<00:00, 26.11it/s]\n"
     ]
    },
    {
     "name": "stdout",
     "output_type": "stream",
     "text": [
      "Loading Inception-v3 model...\n",
      "Loading images from \"dpm\"...\n",
      "Calculating statistics for 3000 images...\n"
     ]
    },
    {
     "name": "stderr",
     "output_type": "stream",
     "text": [
      "100%|██████████| 12/12 [00:01<00:00,  7.61batch/s]\n"
     ]
    },
    {
     "name": "stdout",
     "output_type": "stream",
     "text": [
      "Количество шагов: 50\n",
      "FID: 11.865536365643656\n"
     ]
    },
    {
     "name": "stderr",
     "output_type": "stream",
     "text": [
      "3000 images saved: 100%|██████████| 3000/3000 [03:45<00:00, 13.31it/s]\n"
     ]
    },
    {
     "name": "stdout",
     "output_type": "stream",
     "text": [
      "Loading Inception-v3 model...\n",
      "Loading images from \"dpm\"...\n",
      "Calculating statistics for 3000 images...\n"
     ]
    },
    {
     "name": "stderr",
     "output_type": "stream",
     "text": [
      "100%|██████████| 12/12 [00:01<00:00,  7.77batch/s]\n"
     ]
    },
    {
     "name": "stdout",
     "output_type": "stream",
     "text": [
      "Количество шагов: 100\n",
      "FID: 11.398817175470922\n"
     ]
    },
    {
     "name": "stderr",
     "output_type": "stream",
     "text": [
      "3000 images saved: 100%|██████████| 3000/3000 [07:25<00:00,  6.73it/s]\n"
     ]
    },
    {
     "name": "stdout",
     "output_type": "stream",
     "text": [
      "Loading Inception-v3 model...\n",
      "Loading images from \"dpm\"...\n",
      "Calculating statistics for 3000 images...\n"
     ]
    },
    {
     "name": "stderr",
     "output_type": "stream",
     "text": [
      "100%|██████████| 12/12 [00:01<00:00,  7.77batch/s]\n"
     ]
    },
    {
     "name": "stdout",
     "output_type": "stream",
     "text": [
      "Количество шагов: 200\n",
      "FID: 11.552937483966383\n",
      "[18.97992915596248, 15.035623636760402, 13.778422199154326, 12.823173619311236, 11.865536365643656, 11.398817175470922, 11.552937483966383]\n"
     ]
    }
   ],
   "source": [
    "dpm = DPMSolver1()\n",
    "dpm_fids = []\n",
    "for num_steps in steps_list:\n",
    "    save_model_samples('dpm', net, batch_size=256, num_samples=3000, solver=dpm, num_steps=num_steps)\n",
    "    fid = calc_fid(image_path='dpm', ref_path='https://nvlabs-fi-cdn.nvidia.com/edm/fid-refs/cifar10-32x32.npz',\n",
    "                        num_expected=3000, batch=256)\n",
    "    print(f'Количество шагов: {num_steps}\\nFID: {fid}')\n",
    "    dpm_fids.append(fid)\n",
    "print(dpm_fids)"
   ]
  },
  {
   "cell_type": "code",
   "execution_count": 100,
   "metadata": {
    "execution": {
     "iopub.execute_input": "2024-12-21T13:51:49.993341Z",
     "iopub.status.busy": "2024-12-21T13:51:49.992779Z",
     "iopub.status.idle": "2024-12-21T14:09:02.814344Z",
     "shell.execute_reply": "2024-12-21T14:09:02.813415Z",
     "shell.execute_reply.started": "2024-12-21T13:51:49.993308Z"
    },
    "tags": []
   },
   "outputs": [
    {
     "name": "stderr",
     "output_type": "stream",
     "text": [
      "3000 images saved: 100%|██████████| 3000/3000 [00:26<00:00, 112.41it/s]\n"
     ]
    },
    {
     "name": "stdout",
     "output_type": "stream",
     "text": [
      "Loading Inception-v3 model...\n",
      "Loading images from \"ddim\"...\n",
      "Calculating statistics for 3000 images...\n"
     ]
    },
    {
     "name": "stderr",
     "output_type": "stream",
     "text": [
      "100%|██████████| 12/12 [00:01<00:00,  7.72batch/s]\n"
     ]
    },
    {
     "name": "stdout",
     "output_type": "stream",
     "text": [
      "Количество шагов: 10\n",
      "FID: 19.121379715931724\n"
     ]
    },
    {
     "name": "stderr",
     "output_type": "stream",
     "text": [
      "3000 images saved: 100%|██████████| 3000/3000 [00:39<00:00, 75.43it/s] \n"
     ]
    },
    {
     "name": "stdout",
     "output_type": "stream",
     "text": [
      "Loading Inception-v3 model...\n",
      "Loading images from \"ddim\"...\n",
      "Calculating statistics for 3000 images...\n"
     ]
    },
    {
     "name": "stderr",
     "output_type": "stream",
     "text": [
      "100%|██████████| 12/12 [00:01<00:00,  7.80batch/s]\n"
     ]
    },
    {
     "name": "stdout",
     "output_type": "stream",
     "text": [
      "Количество шагов: 16\n",
      "FID: 13.408820082870191\n"
     ]
    },
    {
     "name": "stderr",
     "output_type": "stream",
     "text": [
      "3000 images saved: 100%|██████████| 3000/3000 [00:48<00:00, 61.66it/s] \n"
     ]
    },
    {
     "name": "stdout",
     "output_type": "stream",
     "text": [
      "Loading Inception-v3 model...\n",
      "Loading images from \"ddim\"...\n",
      "Calculating statistics for 3000 images...\n"
     ]
    },
    {
     "name": "stderr",
     "output_type": "stream",
     "text": [
      "100%|██████████| 12/12 [00:01<00:00,  7.77batch/s]\n"
     ]
    },
    {
     "name": "stdout",
     "output_type": "stream",
     "text": [
      "Количество шагов: 20\n",
      "FID: 12.37979227584584\n"
     ]
    },
    {
     "name": "stderr",
     "output_type": "stream",
     "text": [
      "3000 images saved: 100%|██████████| 3000/3000 [01:15<00:00, 39.91it/s] \n"
     ]
    },
    {
     "name": "stdout",
     "output_type": "stream",
     "text": [
      "Loading Inception-v3 model...\n",
      "Loading images from \"ddim\"...\n",
      "Calculating statistics for 3000 images...\n"
     ]
    },
    {
     "name": "stderr",
     "output_type": "stream",
     "text": [
      "100%|██████████| 12/12 [00:01<00:00,  7.79batch/s]\n"
     ]
    },
    {
     "name": "stdout",
     "output_type": "stream",
     "text": [
      "Количество шагов: 32\n",
      "FID: 11.429108247627811\n"
     ]
    },
    {
     "name": "stderr",
     "output_type": "stream",
     "text": [
      "3000 images saved: 100%|██████████| 3000/3000 [01:54<00:00, 26.15it/s]\n"
     ]
    },
    {
     "name": "stdout",
     "output_type": "stream",
     "text": [
      "Loading Inception-v3 model...\n",
      "Loading images from \"ddim\"...\n",
      "Calculating statistics for 3000 images...\n"
     ]
    },
    {
     "name": "stderr",
     "output_type": "stream",
     "text": [
      "100%|██████████| 12/12 [00:01<00:00,  7.74batch/s]\n"
     ]
    },
    {
     "name": "stdout",
     "output_type": "stream",
     "text": [
      "Количество шагов: 50\n",
      "FID: 10.836312501378417\n"
     ]
    },
    {
     "name": "stderr",
     "output_type": "stream",
     "text": [
      "3000 images saved: 100%|██████████| 3000/3000 [03:45<00:00, 13.32it/s]\n"
     ]
    },
    {
     "name": "stdout",
     "output_type": "stream",
     "text": [
      "Loading Inception-v3 model...\n",
      "Loading images from \"ddim\"...\n",
      "Calculating statistics for 3000 images...\n"
     ]
    },
    {
     "name": "stderr",
     "output_type": "stream",
     "text": [
      "100%|██████████| 12/12 [00:01<00:00,  7.69batch/s]\n"
     ]
    },
    {
     "name": "stdout",
     "output_type": "stream",
     "text": [
      "Количество шагов: 100\n",
      "FID: 10.630137387291649\n"
     ]
    },
    {
     "name": "stderr",
     "output_type": "stream",
     "text": [
      "3000 images saved: 100%|██████████| 3000/3000 [07:25<00:00,  6.73it/s]\n"
     ]
    },
    {
     "name": "stdout",
     "output_type": "stream",
     "text": [
      "Loading Inception-v3 model...\n",
      "Loading images from \"ddim\"...\n",
      "Calculating statistics for 3000 images...\n"
     ]
    },
    {
     "name": "stderr",
     "output_type": "stream",
     "text": [
      "100%|██████████| 12/12 [00:01<00:00,  7.57batch/s]\n"
     ]
    },
    {
     "name": "stdout",
     "output_type": "stream",
     "text": [
      "Количество шагов: 200\n",
      "FID: 10.437190390768857\n",
      "[19.121379715931724, 13.408820082870191, 12.37979227584584, 11.429108247627811, 10.836312501378417, 10.630137387291649, 10.437190390768857]\n"
     ]
    }
   ],
   "source": [
    "ddim_quad = DDIMSolver()\n",
    "ddim_quad_fids_500 = []\n",
    "sampling_params = {\n",
    "    \"max_steps\": 10,\n",
    "    \"steps_schedule\": \"quad\",\n",
    "    \"beta_start\" : 2e-5,\n",
    "    \"beta_end\" : 2e-2 - 1e-4\n",
    "}\n",
    "for num_steps in steps_list:\n",
    "    sampling_params[\"max_steps\"] = num_steps\n",
    "    save_model_samples('ddim', net, batch_size=256, num_samples=3000, solver=ddim_linear, num_steps=500, **sampling_params)\n",
    "    fid = calc_fid(image_path='ddim', ref_path='https://nvlabs-fi-cdn.nvidia.com/edm/fid-refs/cifar10-32x32.npz',\n",
    "                        num_expected=3000, batch=256)\n",
    "    print(f'Количество шагов: {num_steps}\\nFID: {fid}')\n",
    "    ddim_quad_fids_500.append(fid)\n",
    "print(ddim_quad_fids_500)"
   ]
  },
  {
   "cell_type": "code",
   "execution_count": 109,
   "metadata": {
    "execution": {
     "iopub.execute_input": "2024-12-21T14:21:06.612519Z",
     "iopub.status.busy": "2024-12-21T14:21:06.612048Z",
     "iopub.status.idle": "2024-12-21T14:38:18.131671Z",
     "shell.execute_reply": "2024-12-21T14:38:18.130812Z",
     "shell.execute_reply.started": "2024-12-21T14:21:06.612495Z"
    },
    "tags": []
   },
   "outputs": [
    {
     "name": "stderr",
     "output_type": "stream",
     "text": [
      "3000 images saved: 100%|██████████| 3000/3000 [00:26<00:00, 112.97it/s]\n"
     ]
    },
    {
     "name": "stdout",
     "output_type": "stream",
     "text": [
      "Loading Inception-v3 model...\n",
      "Loading images from \"ddim\"...\n",
      "Calculating statistics for 3000 images...\n"
     ]
    },
    {
     "name": "stderr",
     "output_type": "stream",
     "text": [
      "100%|██████████| 12/12 [00:01<00:00,  7.71batch/s]\n"
     ]
    },
    {
     "name": "stdout",
     "output_type": "stream",
     "text": [
      "Количество шагов: 10\n",
      "FID: 19.648661172911112\n"
     ]
    },
    {
     "name": "stderr",
     "output_type": "stream",
     "text": [
      "3000 images saved: 100%|██████████| 3000/3000 [00:39<00:00, 75.79it/s] \n"
     ]
    },
    {
     "name": "stdout",
     "output_type": "stream",
     "text": [
      "Loading Inception-v3 model...\n",
      "Loading images from \"ddim\"...\n",
      "Calculating statistics for 3000 images...\n"
     ]
    },
    {
     "name": "stderr",
     "output_type": "stream",
     "text": [
      "100%|██████████| 12/12 [00:01<00:00,  7.67batch/s]\n"
     ]
    },
    {
     "name": "stdout",
     "output_type": "stream",
     "text": [
      "Количество шагов: 16\n",
      "FID: 13.621542719260036\n"
     ]
    },
    {
     "name": "stderr",
     "output_type": "stream",
     "text": [
      "3000 images saved: 100%|██████████| 3000/3000 [00:48<00:00, 61.73it/s] \n"
     ]
    },
    {
     "name": "stdout",
     "output_type": "stream",
     "text": [
      "Loading Inception-v3 model...\n",
      "Loading images from \"ddim\"...\n",
      "Calculating statistics for 3000 images...\n"
     ]
    },
    {
     "name": "stderr",
     "output_type": "stream",
     "text": [
      "100%|██████████| 12/12 [00:01<00:00,  7.82batch/s]\n"
     ]
    },
    {
     "name": "stdout",
     "output_type": "stream",
     "text": [
      "Количество шагов: 20\n",
      "FID: 12.552596827873849\n"
     ]
    },
    {
     "name": "stderr",
     "output_type": "stream",
     "text": [
      "3000 images saved: 100%|██████████| 3000/3000 [01:15<00:00, 39.89it/s] \n"
     ]
    },
    {
     "name": "stdout",
     "output_type": "stream",
     "text": [
      "Loading Inception-v3 model...\n",
      "Loading images from \"ddim\"...\n",
      "Calculating statistics for 3000 images...\n"
     ]
    },
    {
     "name": "stderr",
     "output_type": "stream",
     "text": [
      "100%|██████████| 12/12 [00:01<00:00,  7.75batch/s]\n"
     ]
    },
    {
     "name": "stdout",
     "output_type": "stream",
     "text": [
      "Количество шагов: 32\n",
      "FID: 11.322509899813245\n"
     ]
    },
    {
     "name": "stderr",
     "output_type": "stream",
     "text": [
      "3000 images saved: 100%|██████████| 3000/3000 [01:54<00:00, 26.18it/s]\n"
     ]
    },
    {
     "name": "stdout",
     "output_type": "stream",
     "text": [
      "Loading Inception-v3 model...\n",
      "Loading images from \"ddim\"...\n",
      "Calculating statistics for 3000 images...\n"
     ]
    },
    {
     "name": "stderr",
     "output_type": "stream",
     "text": [
      "100%|██████████| 12/12 [00:01<00:00,  7.66batch/s]\n"
     ]
    },
    {
     "name": "stdout",
     "output_type": "stream",
     "text": [
      "Количество шагов: 50\n",
      "FID: 10.813587647393211\n"
     ]
    },
    {
     "name": "stderr",
     "output_type": "stream",
     "text": [
      "3000 images saved: 100%|██████████| 3000/3000 [03:45<00:00, 13.33it/s]\n"
     ]
    },
    {
     "name": "stdout",
     "output_type": "stream",
     "text": [
      "Loading Inception-v3 model...\n",
      "Loading images from \"ddim\"...\n",
      "Calculating statistics for 3000 images...\n"
     ]
    },
    {
     "name": "stderr",
     "output_type": "stream",
     "text": [
      "100%|██████████| 12/12 [00:01<00:00,  7.70batch/s]\n"
     ]
    },
    {
     "name": "stdout",
     "output_type": "stream",
     "text": [
      "Количество шагов: 100\n",
      "FID: 10.556677171370563\n"
     ]
    },
    {
     "name": "stderr",
     "output_type": "stream",
     "text": [
      "3000 images saved: 100%|██████████| 3000/3000 [07:25<00:00,  6.73it/s]\n"
     ]
    },
    {
     "name": "stdout",
     "output_type": "stream",
     "text": [
      "Loading Inception-v3 model...\n",
      "Loading images from \"ddim\"...\n",
      "Calculating statistics for 3000 images...\n"
     ]
    },
    {
     "name": "stderr",
     "output_type": "stream",
     "text": [
      "100%|██████████| 12/12 [00:01<00:00,  7.72batch/s]\n"
     ]
    },
    {
     "name": "stdout",
     "output_type": "stream",
     "text": [
      "Количество шагов: 200\n",
      "FID: 10.369480978705399\n",
      "[19.648661172911112, 13.621542719260036, 12.552596827873849, 11.322509899813245, 10.813587647393211, 10.556677171370563, 10.369480978705399]\n"
     ]
    }
   ],
   "source": [
    "ddim_quad = DDIMSolver()\n",
    "ddim_quad_fids_1000 = []\n",
    "sampling_params = {\n",
    "    \"max_steps\": 10,\n",
    "    \"steps_schedule\": \"quad\",\n",
    "    \"beta_start\" : 2e-5,\n",
    "    \"beta_end\" : 2e-2 - 1e-4\n",
    "}\n",
    "for num_steps in steps_list:\n",
    "    sampling_params[\"max_steps\"] = num_steps\n",
    "    save_model_samples('ddim', net, batch_size=256, num_samples=3000, solver=ddim_linear, num_steps=1000, **sampling_params)\n",
    "    fid = calc_fid(image_path='ddim', ref_path='https://nvlabs-fi-cdn.nvidia.com/edm/fid-refs/cifar10-32x32.npz',\n",
    "                        num_expected=3000, batch=256)\n",
    "    print(f'Количество шагов: {num_steps}\\nFID: {fid}')\n",
    "    ddim_quad_fids_1000.append(fid)\n",
    "print(ddim_quad_fids_1000)"
   ]
  },
  {
   "cell_type": "code",
   "execution_count": 110,
   "metadata": {
    "execution": {
     "iopub.execute_input": "2024-12-21T15:01:37.550371Z",
     "iopub.status.busy": "2024-12-21T15:01:37.549811Z",
     "iopub.status.idle": "2024-12-21T15:01:37.641611Z",
     "shell.execute_reply": "2024-12-21T15:01:37.640833Z",
     "shell.execute_reply.started": "2024-12-21T15:01:37.550326Z"
    },
    "tags": []
   },
   "outputs": [],
   "source": [
    "ddim_fid_results = {\n",
    "    \"ddim_linear_200\": ddim_linear_fids_200,\n",
    "    \"ddim_linear_500\": ddim_linear_fids_500,\n",
    "    \"ddim_linear_1000\": ddim_linear_fids_1000,\n",
    "    \"ddim_quad_500\": ddim_quad_fids_500,\n",
    "    \"ddim_quad_1000\": ddim_quad_fids_1000\n",
    "}"
   ]
  },
  {
   "cell_type": "code",
   "execution_count": 111,
   "metadata": {
    "execution": {
     "iopub.execute_input": "2024-12-21T15:01:38.651154Z",
     "iopub.status.busy": "2024-12-21T15:01:38.650702Z",
     "iopub.status.idle": "2024-12-21T15:01:38.894540Z",
     "shell.execute_reply": "2024-12-21T15:01:38.893805Z",
     "shell.execute_reply.started": "2024-12-21T15:01:38.651117Z"
    },
    "tags": []
   },
   "outputs": [
    {
     "data": {
      "image/png": "[encoded data removed]",
      "text/plain": [
       "<Figure size 1000x600 with 1 Axes>"
      ]
     },
     "metadata": {},
     "output_type": "display_data"
    }
   ],
   "source": [
    "import matplotlib.pyplot as plt\n",
    "\n",
    "plt.figure(figsize=(10, 6))\n",
    "\n",
    "for experiment_name, fids_list in ddim_fid_results.items():    \n",
    "    plt.plot(steps_list, fids_list, marker='x', label=experiment_name)\n",
    "\n",
    "plt.xlabel('NFE')\n",
    "plt.ylabel('FID')\n",
    "plt.title('CIFAR-10 generation with DDIM')\n",
    "plt.legend()\n",
    "plt.grid(True, which=\"both\", ls=\"--\", linewidth=0.5)\n",
    "\n",
    "plt.show()"
   ]
  },
  {
   "cell_type": "code",
   "execution_count": 107,
   "metadata": {
    "execution": {
     "iopub.execute_input": "2024-12-21T14:12:02.006899Z",
     "iopub.status.busy": "2024-12-21T14:12:02.005764Z",
     "iopub.status.idle": "2024-12-21T14:12:02.074199Z",
     "shell.execute_reply": "2024-12-21T14:12:02.073385Z",
     "shell.execute_reply.started": "2024-12-21T14:12:02.006876Z"
    },
    "tags": []
   },
   "outputs": [],
   "source": [
    "fid_results = {\n",
    "    \"euler\": euler_fids,\n",
    "    \"edm\": edm_fids,\n",
    "    \"ddim_quad\": ddim_quad_fids_500,\n",
    "    \"dpm\": dpm_fids\n",
    "}"
   ]
  },
  {
   "cell_type": "code",
   "execution_count": 108,
   "metadata": {
    "execution": {
     "iopub.execute_input": "2024-12-21T14:12:03.003305Z",
     "iopub.status.busy": "2024-12-21T14:12:03.002895Z",
     "iopub.status.idle": "2024-12-21T14:12:03.248486Z",
     "shell.execute_reply": "2024-12-21T14:12:03.247737Z",
     "shell.execute_reply.started": "2024-12-21T14:12:03.003276Z"
    },
    "tags": []
   },
   "outputs": [
    {
     "data": {
      "image/png": "[encoded data removed]",
      "text/plain": [
       "<Figure size 1000x600 with 1 Axes>"
      ]
     },
     "metadata": {},
     "output_type": "display_data"
    }
   ],
   "source": [
    "import matplotlib.pyplot as plt\n",
    "\n",
    "plt.figure(figsize=(10, 6))\n",
    "\n",
    "for experiment_name, fids_list in fid_results.items():    \n",
    "    plt.plot(steps_list, fids_list, marker='x', label=experiment_name)\n",
    "\n",
    "plt.xlabel('NFE')\n",
    "plt.ylabel('FID')\n",
    "plt.title('CIFAR-10 generation with different ODE solvers')\n",
    "plt.legend()\n",
    "plt.grid(True, which=\"both\", ls=\"--\", linewidth=0.5)\n",
    "\n",
    "plt.show()"
   ]
  }
 ],
 "metadata": {
  "colab": {
   "provenance": []
  },
  "kernelspec": {
   "display_name": "DataSphere Kernel",
   "language": "python",
   "name": "python3"
  },
  "language_info": {
   "codemirror_mode": {
    "name": "ipython",
    "version": 3
   },
   "file_extension": ".py",
   "mimetype": "text/x-python",
   "name": "python",
   "nbconvert_exporter": "python",
   "pygments_lexer": "ipython3",
   "version": "3.10.12"
  }
 },
 "nbformat": 4,
 "nbformat_minor": 4
}
